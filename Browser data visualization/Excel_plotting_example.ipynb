{
 "cells": [
  {
   "cell_type": "code",
   "execution_count": 31,
   "metadata": {},
   "outputs": [],
   "source": [
    "import pandas\n",
    "\n",
    "from bokeh.plotting import figure, output_file, show, reset_output"
   ]
  },
  {
   "cell_type": "code",
   "execution_count": 38,
   "metadata": {},
   "outputs": [],
   "source": [
    "df=pandas.read_excel(\"http://pythonhow.com/verlegenhuken.xlsx\",tools='pan', sheet_name=0)"
   ]
  },
  {
   "cell_type": "code",
   "execution_count": 39,
   "metadata": {},
   "outputs": [],
   "source": [
    "df[\"Temperature\"]=df[\"Temperature\"]/10\n",
    "df[\"Pressure\"]=df[\"Pressure\"]/10"
   ]
  },
  {
   "cell_type": "code",
   "execution_count": 40,
   "metadata": {},
   "outputs": [],
   "source": [
    "df;"
   ]
  },
  {
   "cell_type": "code",
   "execution_count": 41,
   "metadata": {},
   "outputs": [],
   "source": [
    "p=figure(plot_width=500,plot_height=400,logo=None)"
   ]
  },
  {
   "cell_type": "code",
   "execution_count": 42,
   "metadata": {},
   "outputs": [],
   "source": [
    "p.title.text=\"Temperature and Air Pressure\"\n",
    "p.title.text_color=\"Gray\"\n",
    "p.title.text_font=\"arial\"\n",
    "p.title.text_font_style=\"bold\"\n",
    "p.xaxis.minor_tick_line_color=None\n",
    "p.yaxis.minor_tick_line_color=None\n",
    "p.xaxis.axis_label=\"Temperature (C)\"\n",
    "p.yaxis.axis_label=\"Pressure (hPa)\"  "
   ]
  },
  {
   "cell_type": "code",
   "execution_count": 43,
   "metadata": {},
   "outputs": [],
   "source": [
    "p.circle(df[\"Temperature\"],df[\"Pressure\"],size=0.5)\n",
    "reset_output()\n",
    "output_file(\"Weather.html\")\n",
    "show(p)"
   ]
  },
  {
   "cell_type": "code",
   "execution_count": 25,
   "metadata": {},
   "outputs": [],
   "source": [
    "import pandas\n",
    "\n",
    "from bokeh.plotting import figure, output_file, show, reset_output\n",
    "# dateparse = lambda x: pandas.datetime.strptime(x, '%m/%d/%Y')\n",
    "df2 = pandas.read_csv(\"monthly_csv.csv\", parse_dates=['Date'])\n",
    "df2 = df2.iloc[::2]\n",
    "df2\n",
    "# df3 = df2[['Emp ID', 'Date of Birth']]\n",
    "p=figure(width=500, height=300, x_axis_type='datetime', sizing_mode='scale_width')\n",
    "p.line(df2['Date'], df2['Mean'], color='red', alpha=0.5)\n",
    "p.circle(df2['Date'], df2['Mean'], color='blue', alpha=0.5)\n",
    "reset_output()\n",
    "output_file(\"Temperature.html\")\n",
    "show(p)"
   ]
  },
  {
   "cell_type": "code",
   "execution_count": null,
   "metadata": {},
   "outputs": [],
   "source": []
  }
 ],
 "metadata": {
  "kernelspec": {
   "display_name": "Python 3",
   "language": "python",
   "name": "python3"
  },
  "language_info": {
   "codemirror_mode": {
    "name": "ipython",
    "version": 3
   },
   "file_extension": ".py",
   "mimetype": "text/x-python",
   "name": "python",
   "nbconvert_exporter": "python",
   "pygments_lexer": "ipython3",
   "version": "3.6.6"
  }
 },
 "nbformat": 4,
 "nbformat_minor": 2
}
